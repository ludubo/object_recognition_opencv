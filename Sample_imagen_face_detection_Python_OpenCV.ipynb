{
 "cells": [
  {
   "cell_type": "code",
   "execution_count": null,
   "metadata": {},
   "outputs": [],
   "source": [
    "import numpy as np\n",
    "import cv2\n",
    "\n",
    "face_cascade = cv2.CascadeClassifier(\"haarcascade_frontalface_default.xml\")\n",
    "img = cv2.imread('Captura.png', -1)\n",
    "\n",
    "scale_factor = 1.2\n",
    "\n",
    "ciclo = 0\n",
    "\n",
    "# infinite loop\n",
    "while ciclo == 0:\n",
    "# video captured    \n",
    "#    ret, pic = cv2.VideoCapture(0).read()\n",
    "# face detection    \n",
    "    faces = face_cascade.detectMultiScale(img, scale_factor, 5)\n",
    "\n",
    "    print(\"number of faces:\",len(faces))\n",
    "    \n",
    "# checking if detecting faces\n",
    "#    if len(faces) == 0:\n",
    "#        print(\"no faces detected\")\n",
    "#        break\n",
    "        \n",
    "# for each face detected, generate a rectangle    \n",
    "    for (x, y, w, h) in faces:\n",
    "        cv2.rectangle(img, (x,y), (x + w, y + h), (255, 0, 0), 2)\n",
    "        font = cv2.FONT_HERSHEY_SIMPLEX\n",
    "        cv2.putText(img, '', (x, y), font, 2, (255, 255, 255), 2, cv2.LINE_AA)\n",
    "        \n",
    "# display number of detected faces\n",
    "    print(\"number the faces found {}\", format((len(faces))))\n",
    "\n",
    "# show frame with faces detected and rectagles\n",
    "    cv2.imshow('faces detected', img)\n",
    "    ciclo = 1\n",
    "    \n",
    "# Press Q on keyboard to  exit\n",
    "    if cv2.waitKey(25) & 0xFF == ord('q'):\n",
    "      break\n",
    "\n",
    "# Free camera and erase window    \n",
    "cv2.VideoCapture(0).release()\n",
    "#cv2.destroyAllWindows()"
   ]
  }
 ],
 "metadata": {
  "kernelspec": {
   "display_name": "Python 3",
   "language": "python",
   "name": "python3"
  },
  "language_info": {
   "codemirror_mode": {
    "name": "ipython",
    "version": 3
   },
   "file_extension": ".py",
   "mimetype": "text/x-python",
   "name": "python",
   "nbconvert_exporter": "python",
   "pygments_lexer": "ipython3",
   "version": "3.7.1"
  }
 },
 "nbformat": 4,
 "nbformat_minor": 2
}
