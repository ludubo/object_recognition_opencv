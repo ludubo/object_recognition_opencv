{
 "cells": [
  {
   "cell_type": "code",
   "execution_count": 1,
   "metadata": {},
   "outputs": [
    {
     "name": "stdout",
     "output_type": "stream",
     "text": [
      "Photo ok\n"
     ]
    }
   ],
   "source": [
    "import cv2\n",
    "\n",
    "# Select camera, 0 is a default camera\n",
    "\n",
    "cap = cv2.VideoCapture(0)\n",
    "\n",
    "# Capture frame from camera\n",
    "ret, frame = cap.read()\n",
    "\n",
    "# ret == True -> frame captured\n",
    "if ret == True:\n",
    "# saving photo in foto.png file\n",
    "    cv2.imwrite(\"foto.png\", frame)\n",
    "    print(\"Photo ok\")\n",
    "else:\n",
    "    print(\"Error with camera\")\n",
    "\n",
    "# free camera\n",
    "cap.release()"
   ]
  }
 ],
 "metadata": {
  "kernelspec": {
   "display_name": "Python 3",
   "language": "python",
   "name": "python3"
  },
  "language_info": {
   "codemirror_mode": {
    "name": "ipython",
    "version": 3
   },
   "file_extension": ".py",
   "mimetype": "text/x-python",
   "name": "python",
   "nbconvert_exporter": "python",
   "pygments_lexer": "ipython3",
   "version": "3.7.1"
  }
 },
 "nbformat": 4,
 "nbformat_minor": 2
}
